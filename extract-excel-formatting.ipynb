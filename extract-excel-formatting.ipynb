{
 "cells": [
  {
   "cell_type": "markdown",
   "metadata": {},
   "source": [
    "# How to extract indentation data from Excel (xlsx) file\n",
    "\n",
    "Excel files sometimes store meaningful information in cell formatting.\n",
    "\n",
    "In the example below, rows beginning with \"Male\" and \"Female\" contain no information about field of study. The nesting of \"Male\" and \"Female\" within field of study (and field of study within \"All Fields\") is made apparent by indentation."
   ]
  },
  {
   "cell_type": "markdown",
   "metadata": {},
   "source": [
    "<img src=\"excel_indent_example.PNG\" align=\"left\"/>"
   ]
  },
  {
   "cell_type": "markdown",
   "metadata": {},
   "source": [
    "(This Excel file was downloaded from: https://ncses.nsf.gov/pubs/nsf19301/data [Table 14])\n",
    "\n",
    "While this example is simple and could be easily handled during data cleaning, one can easily imagine more complex scenarios in which the nesting structure isn't as obvious (e.g., there are more than two unique strings - male and female - being nested, identical strings existing at multiple levels of the nesting structure, etc.).\n",
    "\n",
    "The goal of this exercise was to create a function that:\n",
    "1. Extracts information about indentation from an Excel file (Which cells are indented? How much are they indented?)\n",
    "2. Returns that information in a matrix whose structure mimics the original Excel file (i.e., if the Excel file contained 100 rows and 5 columns of formatted data, the function should return a 100x5 matrix of numbers where 0 = No indentation, 1 = first level of indentation, 2 = second level of indentation, and so on.)\n",
    "\n",
    "Additionally, this is my first time using Python to problem-solve, so it serves as a useful learning exercise. I make no claims that this code adheres to any sort of \"best practices\" - however, one of the easiest ways for me to learn is to dive right in and figure out what I <b>don't</b> know. A list of questions that this exercised raised for me will be included at the end of the notebook."
   ]
  },
  {
   "cell_type": "code",
   "execution_count": 2,
   "metadata": {},
   "outputs": [],
   "source": [
    "import numpy as np \n",
    "from openpyxl import load_workbook"
   ]
  },
  {
   "cell_type": "code",
   "execution_count": 26,
   "metadata": {},
   "outputs": [],
   "source": [
    "def excel_indent_finder(file, sheet_number= 1):\n",
    "    \n",
    "    # Import the Excel Workbook\n",
    "    wb = load_workbook(file, read_only=True)\n",
    "    \n",
    "    # Subtract 1 from worksheet number argument\n",
    "    # (The first Excel worksheet has an index of 0)\n",
    "    sheet_index = sheet_number - 1\n",
    "    \n",
    "    # Show a custom error message and exit if the worksheet does not exist.\n",
    "    try:\n",
    "        wb.worksheets[sheet_index] \n",
    "    except IndexError:\n",
    "        print(\"Error: Worksheet does not exist. Enter the worksheet number as an interger starting from 1.\")\n",
    "        return\n",
    "    # If the worksheet does exist...\n",
    "    else:\n",
    "        ws = wb.worksheets[sheet_index] \n",
    "        # Get the max row and column\n",
    "        max_row = ws.max_row\n",
    "        max_col = ws.max_column\n",
    "        # Return information about the worksheet to the user (name, number of rows and columns)\n",
    "        print(\"Returning attributes of worksheet: '\" + ws.title + \"'\")\n",
    "        print(ws.title + \" contains \" + str(max_row) + \" rows and \" + str(max_col) + \" columns\")\n",
    "\n",
    "    # Prepare to save information about the indentation formatting\n",
    "    format_matrix = [];\n",
    "    # Iterate over the rows\n",
    "    for row in ws.rows:\n",
    "        # And while you're in a row, iterate across the cells/columns\n",
    "        for cell in row:\n",
    "            # If cell has a value, then look for (and append) the indentation information\n",
    "            if cell.value: \n",
    "                format_matrix.append(cell.alignment.indent)  \n",
    "            # If cell does not have a value, append a 0 (no indentation)\n",
    "            else:\n",
    "                format_matrix.append(np.nan)\n",
    "    # Reshape the matrix so that it mirrors the original Excel file\n",
    "    format_reshaped = np.reshape(format_matrix, (max_row, max_col)) \n",
    "    # Close the connection to the Excel file (Unsure of this part)\n",
    "    wb._archive.close()\n",
    "    # Return the reshaped matrix\n",
    "    return(format_reshaped)"
   ]
  },
  {
   "cell_type": "code",
   "execution_count": 27,
   "metadata": {},
   "outputs": [
    {
     "name": "stdout",
     "output_type": "stream",
     "text": [
      "Returning attributes of worksheet: 'Table 14'\n",
      "Table 14 contains 32 rows and 15 columns\n"
     ]
    }
   ],
   "source": [
    "my_format_matrix = excel_indent_finder(\"sed17-sr-tab014.xlsx\")"
   ]
  },
  {
   "cell_type": "code",
   "execution_count": 28,
   "metadata": {},
   "outputs": [
    {
     "name": "stdout",
     "output_type": "stream",
     "text": [
      "[[ 0. nan nan nan nan nan nan nan nan nan nan nan nan nan nan]\n",
      " [ 0. nan nan nan nan nan nan nan nan nan nan nan nan nan nan]\n",
      " [ 0. nan nan nan nan nan nan nan nan nan nan nan nan nan nan]\n",
      " [ 0.  0. nan  0. nan  0. nan  0. nan  0. nan  0. nan  0. nan]\n",
      " [nan  0.  0.  0.  0.  0.  0.  0.  0.  0.  0.  0.  0.  0.  0.]\n",
      " [ 0.  0.  0.  0.  0.  0.  0.  0.  0.  0.  0.  0.  0.  0.  0.]\n",
      " [ 1.  0.  0.  0.  0.  0.  0.  0.  0.  0.  0.  0.  0.  0.  0.]\n",
      " [ 1.  0.  0.  0.  0.  0.  0.  0.  0.  0.  0.  0.  0.  0.  0.]\n",
      " [ 1.  0.  0.  0.  0.  0.  0.  0.  0.  0.  0.  0.  0.  0.  0.]\n",
      " [ 2.  0.  0.  0.  0.  0.  0.  0.  0.  0.  0.  0.  0.  0.  0.]\n",
      " [ 2.  0.  0.  0.  0.  0.  0.  0.  0.  0.  0.  0.  0.  0.  0.]\n",
      " [ 1.  0.  0.  0.  0.  0.  0.  0.  0.  0.  0.  0.  0.  0.  0.]\n",
      " [ 2.  0.  0.  0.  0.  0.  0.  0.  0.  0.  0.  0.  0.  0.  0.]\n",
      " [ 2.  0.  0.  0.  0.  0.  0.  0.  0.  0.  0.  0.  0.  0.  0.]\n",
      " [ 1.  0.  0.  0.  0.  0.  0.  0.  0.  0.  0.  0.  0.  0.  0.]\n",
      " [ 2.  0.  0.  0.  0.  0.  0.  0.  0.  0.  0.  0.  0.  0.  0.]\n",
      " [ 2.  0.  0.  0.  0.  0.  0.  0.  0.  0.  0.  0.  0.  0.  0.]\n",
      " [ 1.  0.  0.  0.  0.  0.  0.  0.  0.  0.  0.  0.  0.  0.  0.]\n",
      " [ 2.  0.  0.  0.  0.  0.  0.  0.  0.  0.  0.  0.  0.  0.  0.]\n",
      " [ 2.  0.  0.  0.  0.  0.  0.  0.  0.  0.  0.  0.  0.  0.  0.]\n",
      " [ 1.  0.  0.  0.  0.  0.  0.  0.  0.  0.  0.  0.  0.  0.  0.]\n",
      " [ 2.  0.  0.  0.  0.  0.  0.  0.  0.  0.  0.  0.  0.  0.  0.]\n",
      " [ 2.  0.  0.  0.  0.  0.  0.  0.  0.  0.  0.  0.  0.  0.  0.]\n",
      " [ 1.  0.  0.  0.  0.  0.  0.  0.  0.  0.  0.  0.  0.  0.  0.]\n",
      " [ 2.  0.  0.  0.  0.  0.  0.  0.  0.  0.  0.  0.  0.  0.  0.]\n",
      " [ 2.  0.  0.  0.  0.  0.  0.  0.  0.  0.  0.  0.  0.  0.  0.]\n",
      " [ 1.  0.  0.  0.  0.  0.  0.  0.  0.  0.  0.  0.  0.  0.  0.]\n",
      " [ 2.  0.  0.  0.  0.  0.  0.  0.  0.  0.  0.  0.  0.  0.  0.]\n",
      " [ 2.  0.  0.  0.  0.  0.  0.  0.  0.  0.  0.  0.  0.  0.  0.]\n",
      " [ 1.  0.  0.  0.  0.  0.  0.  0.  0.  0.  0.  0.  0.  0.  0.]\n",
      " [ 2.  0.  0.  0.  0.  0.  0.  0.  0.  0.  0.  0.  0.  0.  0.]\n",
      " [ 2.  0.  0.  0.  0.  0.  0.  0.  0.  0.  0.  0.  0.  0.  0.]]\n"
     ]
    }
   ],
   "source": [
    "print(my_format_matrix)"
   ]
  },
  {
   "cell_type": "markdown",
   "metadata": {},
   "source": [
    "The output looks good! The NaNs mark merged and empty cells."
   ]
  },
  {
   "cell_type": "code",
   "execution_count": 32,
   "metadata": {},
   "outputs": [],
   "source": [
    "# Save output as a .csv (need to use float instead of integer due to NaNs)\n",
    "np.savetxt(\"matrix_output.csv\", my_format_matrix, fmt = \"%f\",delimiter=\",\")"
   ]
  },
  {
   "cell_type": "markdown",
   "metadata": {},
   "source": [
    "#### Questions and topics for research:\n",
    "1. Research best practices for error handling. I've included one Try/Catch here as an experiment.\n",
    "2. Research best practices for import statements. What happens if they are included inside functions? What if the module is already imported? What if \"import as\" was used? Need to learn where modules live in the environment, in general.\n",
    "3. Research best practices for building matrices in Python. The method used here, for example, is memory intensive in R. (I wouldn't be surprised if an improvement is to initialize a matrix with the known final dimensions, rather than one that is completely empty.)\n",
    "4. Experiment with openpyxl to learn about how it handles file locking (of the imported xlsx file).\n",
    "5. Research how to read in functions from external Python files (like R's `source()`)."
   ]
  },
  {
   "cell_type": "markdown",
   "metadata": {},
   "source": [
    "#### Ideas for how the function might be extended:\n",
    "1. Add an argument allowing the user to search for one of multiple types of Excel formatting (e.g., highlighted cells), instead of only indentation.\n",
    "2. Allow the user to specify the worksheet by either number (currently implemented) or worksheet name\n",
    "3. Allow customization of what is returned if the cell is empty/merged (currently NaN). \n",
    "4. In general, test the function on Excel workbooks containing different components (graphs, images, etc.). At this point, I only know that the function works on this workbook (and similar simple workbooks I've tested outside this Notebook)."
   ]
  }
 ],
 "metadata": {
  "kernelspec": {
   "display_name": "Python 3",
   "language": "python",
   "name": "python3"
  },
  "language_info": {
   "codemirror_mode": {
    "name": "ipython",
    "version": 3
   },
   "file_extension": ".py",
   "mimetype": "text/x-python",
   "name": "python",
   "nbconvert_exporter": "python",
   "pygments_lexer": "ipython3",
   "version": "3.7.1"
  }
 },
 "nbformat": 4,
 "nbformat_minor": 2
}
